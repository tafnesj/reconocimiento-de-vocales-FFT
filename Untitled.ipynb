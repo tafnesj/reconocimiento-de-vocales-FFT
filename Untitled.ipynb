{
 "cells": [
  {
   "cell_type": "code",
   "execution_count": 24,
   "id": "1781b5e5-a9c2-425a-98cf-609c927f5e1b",
   "metadata": {},
   "outputs": [],
   "source": [
    "import pyaudio, wave\n",
    "import struct\n",
    "import numpy as np\n",
    "import tkinter\n",
    "from tkinter import *\n",
    "import matplotlib.pyplot as plt\n",
    "import math\n",
    "import cmath"
   ]
  },
  {
   "cell_type": "code",
   "execution_count": 25,
   "id": "4d03e1ad",
   "metadata": {},
   "outputs": [],
   "source": [
    "def reverseBits(x,h):\n",
    "    rev = '{:0{h}b}'.format(x, h=h)\n",
    "    return(int(rev[::-1], 2))\n",
    "    \n",
    "def fft(signal):\n",
    "    signal = list(np.copy(signal).astype(complex))\n",
    "    # Iteramos por todas las capas de abajo hacia arriba\n",
    "    n = len(signal)\n",
    "    h = int(math.log2(n))\n",
    "    for x in range(0,n):\n",
    "        rev_pos = reverseBits(x,h)\n",
    "        if(rev_pos<x):\n",
    "            signal[rev_pos], signal[x] = signal[x],signal[rev_pos]\n",
    "    for i in range(h-1,-1,-1):\n",
    "        sz = 1<<(h-i);\n",
    "        blocks = 1<<i;\n",
    "        w = [cmath.exp(-2j * cmath.pi * k / sz) for k in range(sz//2)]\n",
    "        # Procesamiento de cada bloque\n",
    "        for j in range(0,blocks):\n",
    "            start = sz*j\n",
    "            # Transformar bloque actual\n",
    "            for k in range(0, sz//2):\n",
    "                u = signal[start+k]\n",
    "                v = signal[start+k+(sz//2)] * w[k]\n",
    "                signal[start+k] = u+v\n",
    "                signal[start+k+(sz//2)] = u-v\n",
    "    return np.array(signal)"
   ]
  },
  {
   "cell_type": "code",
   "execution_count": 26,
   "id": "00255de9",
   "metadata": {},
   "outputs": [],
   "source": [
    "def graficar(data_x, data_y, legends, label_x, label_y, title, xlim = None):\n",
    "    for i in range(0, len(data_x)):\n",
    "        plt.plot(data_x[i], data_y[i], label = legends[i], marker = \"o\")\n",
    "    if xlim:\n",
    "        plt.xlim(xlim)\n",
    "    plt.grid(True)\n",
    "    plt.xlabel(label_x)\n",
    "    plt.ylabel(label_y)\n",
    "    plt.title(title)\n",
    "    plt.legend(loc='upper center', bbox_to_anchor=(0.5, -0.1), shadow=True, ncol=4)\n",
    "    plt.show()\n",
    "    plt.clf()"
   ]
  },
  {
   "cell_type": "code",
   "execution_count": 27,
   "id": "fcac2af7",
   "metadata": {},
   "outputs": [],
   "source": [
    "RATE = 0"
   ]
  },
  {
   "cell_type": "code",
   "execution_count": 28,
   "id": "0d553153-c673-4e2c-bcef-52372f200b74",
   "metadata": {},
   "outputs": [],
   "source": [
    "def microphone():\n",
    "    global RATE\n",
    "    RATE = 44100\n",
    "    FRAMES = 2**15\n",
    "    duration = FRAMES/RATE\n",
    "    p = pyaudio.PyAudio()\n",
    "    stream = p.open(format=pyaudio.paInt16, channels=1, rate=RATE, input=True, frames_per_buffer=FRAMES)\n",
    "    # Leer la entrada del micrófono \n",
    "    data = stream.read(FRAMES)\n",
    "    # Cerrar el micrófono\n",
    "    stream.stop_stream()\n",
    "    stream.close()\n",
    "    p.terminate()\n",
    "    return data"
   ]
  },
  {
   "cell_type": "code",
   "execution_count": 29,
   "id": "e36d4572",
   "metadata": {},
   "outputs": [],
   "source": [
    "def wave_file(file):\n",
    "    global RATE\n",
    "    FRAMES = 2**17\n",
    "    wf = wave.open(file, \"rb\")\n",
    "    RATE = wf.getframerate()\n",
    "    data = wf.readframes(FRAMES)\n",
    "    wf.close()\n",
    "    return data"
   ]
  },
  {
   "cell_type": "code",
   "execution_count": 30,
   "id": "d1a31e30",
   "metadata": {},
   "outputs": [],
   "source": [
    "def play(data, channels, RATE):\n",
    "    p = pyaudio.PyAudio()\n",
    "    play = p.open(format=pyaudio.paInt16, channels=1, rate=RATE, output=True)\n",
    "    play.write(data)\n",
    "    play.stop_stream()\n",
    "    play.close()\n",
    "    p.terminate()"
   ]
  },
  {
   "cell_type": "code",
   "execution_count": 31,
   "id": "f776559d",
   "metadata": {},
   "outputs": [],
   "source": [
    "def getFundamentalFrequencies(data, plot=False):\n",
    "    data = list(struct.unpack(str(len(data)//2) + 'h', data))\n",
    "    SZ = 1\n",
    "    while SZ < len(data):\n",
    "        SZ<<=1\n",
    "    while len(data) < SZ:\n",
    "        data.append(0)\n",
    "        \n",
    "    frequencies = np.abs(fft(data))\n",
    "    frequencies = frequencies[:len(data)//2]\n",
    "    if plot:\n",
    "        eje_t = np.arange(0, len(data)) / RATE\n",
    "        graficar([eje_t], [data], [\"Audio\"], \"Tiempo (s)\", \"Amplitud\", \"Entrada de audio\")\n",
    "        eje_f = np.arange(0, len(data)//2) / (len(data)/RATE)\n",
    "        graficar([eje_f], [frequencies], [\"Audio\"], \"Frecuencia (Hz)\", \"Amplitud\", \"Entrada de audio\", (0,4000))\n",
    "    \n",
    "    freqs = [(frequencies[i],i / (len(data)/RATE)) for i in range(len(data)//2)]\n",
    "    freqs.sort(reverse=True)\n",
    "\n",
    "    freq_funda = [freqs[0][1]]\n",
    "    for i in range(1,len(freqs)):\n",
    "        is_valid = True\n",
    "        for j in freq_funda:\n",
    "            if(abs(j-freqs[i][1])<100):\n",
    "                is_valid = False\n",
    "        if(is_valid):\n",
    "            freq_funda.append(freqs[i][1])\n",
    "            if(len(freq_funda)==3):\n",
    "                break\n",
    "    while(len(freq_funda)<3):\n",
    "        freq_funda.append(0)\n",
    "\n",
    "    freq_funda.sort()\n",
    "    return freq_funda"
   ]
  },
  {
   "cell_type": "code",
   "execution_count": 32,
   "id": "f5947053",
   "metadata": {},
   "outputs": [],
   "source": [
    "def train():\n",
    "    freq_av_h = {'a':[0,0,0],'e':[0,0,0],'i':[0,0,0],'o':[0,0,0],'u':[0,0,0]}\n",
    "    num_hombres = 1\n",
    "    for h in range(1,num_hombres+1):\n",
    "        for v in ['a','e','i','o','u']:\n",
    "            freq_funda = getFundamentalFrequencies(wave_file(F\"hombre_0{h}/{v}.wav\"))\n",
    "\n",
    "            for x in range(3):\n",
    "                freq_av_h[v][x]+=freq_funda[x]/num_hombres\n",
    "\n",
    "    return freq_av_h\n",
    "\n",
    "def train_m():\n",
    "    freq_av_h = {'a':[0,0,0],'e':[0,0,0],'i':[0,0,0],'o':[0,0,0],'u':[0,0,0]}\n",
    "    num_mujeres = 1\n",
    "    for h in range(1,num_mujeres+1):\n",
    "        for v in ['a','e','i','o','u']:\n",
    "            freq_funda = getFundamentalFrequencies(wave_file(F\"mujer_0{h}/{v}.wav\"),False)\n",
    "\n",
    "            for x in range(3):\n",
    "                freq_av_h[v][x]+=freq_funda[x]/num_mujeres\n",
    "\n",
    "    return freq_av_h"
   ]
  },
  {
   "cell_type": "code",
   "execution_count": 33,
   "id": "b4a3ff9d",
   "metadata": {},
   "outputs": [],
   "source": [
    "# Frecuencias mujeres\n",
    "freq_mujeres = train_m()\n",
    "# Frecuencias hombres\n",
    "freq_hombres = train()"
   ]
  },
  {
   "cell_type": "code",
   "execution_count": 34,
   "id": "0d01f7fe",
   "metadata": {},
   "outputs": [],
   "source": [
    "def getNearestVowel(freq_funda, es_hombre=True):\n",
    "    min_dif = 1e9\n",
    "    vowel = 'a'\n",
    "    # Frecuencias en hombres\n",
    "    if(es_hombre==True):\n",
    "        for i,j in freq_hombres.items():\n",
    "            freq_dif = abs(freq_funda[0]-j[0])+abs(freq_funda[1]-j[1])+abs(freq_funda[2]-j[2])\n",
    "            if(min_dif>freq_dif):\n",
    "                min_dif = freq_dif\n",
    "                vowel = i\n",
    "    # Frecuencias en mujeres\n",
    "    else:\n",
    "        for i,j in freq_mujeres.items():\n",
    "            freq_dif = abs(freq_funda[0]-j[0])+abs(freq_funda[1]-j[1])+abs(freq_funda[2]-j[2])\n",
    "            if(min_dif>freq_dif):\n",
    "                min_dif = freq_dif\n",
    "                vowel = i\n",
    "    return vowel"
   ]
  },
  {
   "cell_type": "code",
   "execution_count": 35,
   "id": "96209cd8",
   "metadata": {
    "scrolled": false
   },
   "outputs": [
    {
     "name": "stdout",
     "output_type": "stream",
     "text": [
      "Test Case: Hombre 01\n",
      "a\n",
      "e\n",
      "i\n",
      "o\n",
      "u\n",
      "Test Case: Hombre 02\n",
      "a\n",
      "e\n",
      "i\n",
      "e\n",
      "e\n",
      "Test Case: Maestra\n",
      "a\n",
      "e\n",
      "i\n",
      "o\n",
      "u\n",
      "u\n",
      "u\n",
      "u\n",
      "u\n",
      "u\n"
     ]
    }
   ],
   "source": [
    "for i in range(1, 3):\n",
    "    print(F\"Test Case: Hombre 0{i}\")\n",
    "    for v in ['a','e','i','o','u']:\n",
    "        print(getNearestVowel(getFundamentalFrequencies(wave_file(F\"hombre_0{i}/{v}.wav\"))))\n",
    "print(\"Test Case: Maestra\")\n",
    "for v in ['a','e','i','o','u']:\n",
    "    print(getNearestVowel(getFundamentalFrequencies(wave_file(F\"mujer_01/{v}.wav\")),False))"
   ]
  },
  {
   "cell_type": "code",
   "execution_count": 36,
   "id": "40f7e407",
   "metadata": {},
   "outputs": [
    {
     "name": "stdout",
     "output_type": "stream",
     "text": [
      "{'a': [136.5966796875, 698.73046875, 838.623046875], 'e': [140.2587890625, 285.2783203125, 431.396484375], 'i': [152.7099609375, 305.419921875, 3208.740234375], 'o': [139.5263671875, 286.0107421875, 431.396484375], 'u': [142.4560546875, 280.8837890625, 416.015625]}\n"
     ]
    }
   ],
   "source": [
    "print(freq_hombres)"
   ]
  },
  {
   "cell_type": "code",
   "execution_count": 37,
   "id": "4fec5baf",
   "metadata": {},
   "outputs": [
    {
     "data": {
      "image/png": "[encoded data removed]",
      "text/plain": [
       "<Figure size 432x288 with 1 Axes>"
      ]
     },
     "metadata": {
      "needs_background": "light"
     },
     "output_type": "display_data"
    },
    {
     "data": {
      "image/png": "[encoded data removed]",
      "text/plain": [
       "<Figure size 432x288 with 1 Axes>"
      ]
     },
     "metadata": {
      "needs_background": "light"
     },
     "output_type": "display_data"
    },
    {
     "name": "stdout",
     "output_type": "stream",
     "text": [
      "[239.556884765625, 372.7935791015625, 475.0762939453125]\n",
      "u\n"
     ]
    },
    {
     "data": {
      "text/plain": [
       "<Figure size 432x288 with 0 Axes>"
      ]
     },
     "metadata": {},
     "output_type": "display_data"
    }
   ],
   "source": [
    "microphone_funda = getFundamentalFrequencies(microphone(), True)\n",
    "print(microphone_funda)\n",
    "print(getNearestVowel(microphone_funda,False))"
   ]
  },
  {
   "cell_type": "code",
   "execution_count": 38,
   "id": "33af6058",
   "metadata": {},
   "outputs": [],
   "source": [
    "# Reproducir (prueba: abre string de salida)\n",
    "# p = pyaudio.PyAudio()\n",
    "# play = p.open(format=pyaudio.paInt16, channels=1, rate=RATE, output=True)\n",
    "# play.write(data)"
   ]
  },
  {
   "cell_type": "code",
   "execution_count": 39,
   "id": "03491f97",
   "metadata": {},
   "outputs": [],
   "source": [
    "# tam_block = 50\n",
    "# bucket = [0]*(RATE//tam_block+10)\n",
    "# bucket_average = [0]*(RATE//tam_block+10)\n",
    "# for mag_freq in freqs: \n",
    "#     bucket[int(mag_freq[1]/tam_block)]+=mag_freq[0]\n",
    "#     bucket_average[int(mag_freq[1]/tam_block)]+=mag_freq[0]*mag_freq[1]"
   ]
  },
  {
   "cell_type": "code",
   "execution_count": 40,
   "id": "48079d3e",
   "metadata": {},
   "outputs": [],
   "source": [
    "# bucket_map = [(bucket[i],i) for i in range(len(bucket))]\n",
    "# bucket_map.sort(reverse=True)\n",
    "# block_one = bucket_map[0][1]\n",
    "# block_two = bucket_map[1][1]\n",
    "# freq_one = bucket_average[block_one]/bucket[block_one]\n",
    "# freq_two = bucket_average[block_two]/bucket[block_two]"
   ]
  },
  {
   "cell_type": "code",
   "execution_count": null,
   "id": "fed6ab8c",
   "metadata": {},
   "outputs": [],
   "source": []
  }
 ],
 "metadata": {
  "interpreter": {
   "hash": "aee8b7b246df8f9039afb4144a1f6fd8d2ca17a180786b69acc140d282b71a49"
  },
  "kernelspec": {
   "display_name": "Python 3",
   "language": "python",
   "name": "python3"
  },
  "language_info": {
   "codemirror_mode": {
    "name": "ipython",
    "version": 3
   },
   "file_extension": ".py",
   "mimetype": "text/x-python",
   "name": "python",
   "nbconvert_exporter": "python",
   "pygments_lexer": "ipython3",
   "version": "3.9.5"
  }
 },
 "nbformat": 4,
 "nbformat_minor": 5
}
